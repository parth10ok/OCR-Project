{
 "cells": [
  {
   "cell_type": "code",
   "execution_count": null,
   "metadata": {
    "colab": {
     "base_uri": "https://localhost:8080/"
    },
    "executionInfo": {
     "elapsed": 17661,
     "status": "ok",
     "timestamp": 1755187453647,
     "user": {
      "displayName": "Parth Nitin Kadam me22b081",
      "userId": "10550328344076653546"
     },
     "user_tz": -330
    },
    "id": "OgzMZtL0UmG5",
    "outputId": "b72e89c9-6cdb-4d02-80a3-7999ca751b9b"
   },
   "outputs": [
    {
     "name": "stdout",
     "output_type": "stream",
     "text": [
      "Mounted at /content/drive\n"
     ]
    }
   ],
   "source": [
    "from google.colab import drive\n",
    "drive.mount('/content/drive')"
   ]
  },
  {
   "cell_type": "code",
   "execution_count": null,
   "metadata": {
    "id": "BjjAQVT0UyjP"
   },
   "outputs": [],
   "source": [
    "import numpy as np\n",
    "data = np.load(\"/content/drive/MyDrive/ML_OCR/emnist_preprocessed.npz\")\n",
    "images_fixed = data[\"images_fixed\"]\n",
    "labels = data[\"labels\"]\n"
   ]
  },
  {
   "cell_type": "code",
   "execution_count": null,
   "metadata": {
    "colab": {
     "base_uri": "https://localhost:8080/"
    },
    "executionInfo": {
     "elapsed": 729939,
     "status": "ok",
     "timestamp": 1755188595582,
     "user": {
      "displayName": "Parth Nitin Kadam me22b081",
      "userId": "10550328344076653546"
     },
     "user_tz": -330
    },
    "id": "pJfihioMVlgJ",
    "outputId": "d2d15c5b-1c3c-41fd-bff7-36dccf01b7c2"
   },
   "outputs": [
    {
     "name": "stderr",
     "output_type": "stream",
     "text": [
      "/usr/local/lib/python3.11/dist-packages/keras/src/layers/reshaping/flatten.py:37: UserWarning: Do not pass an `input_shape`/`input_dim` argument to a layer. When using Sequential models, prefer using an `Input(shape)` object as the first layer in the model instead.\n",
      "  super().__init__(**kwargs)\n"
     ]
    },
    {
     "name": "stdout",
     "output_type": "stream",
     "text": [
      "Epoch 1/10\n",
      "\u001b[1m4908/4908\u001b[0m \u001b[32m━━━━━━━━━━━━━━━━━━━━\u001b[0m\u001b[37m\u001b[0m \u001b[1m61s\u001b[0m 12ms/step - accuracy: 0.4656 - loss: 2.1864 - val_accuracy: 0.6870 - val_loss: 1.0833\n",
      "Epoch 2/10\n",
      "\u001b[1m4908/4908\u001b[0m \u001b[32m━━━━━━━━━━━━━━━━━━━━\u001b[0m\u001b[37m\u001b[0m \u001b[1m81s\u001b[0m 12ms/step - accuracy: 0.6949 - loss: 1.0581 - val_accuracy: 0.7372 - val_loss: 0.8912\n",
      "Epoch 3/10\n",
      "\u001b[1m4908/4908\u001b[0m \u001b[32m━━━━━━━━━━━━━━━━━━━━\u001b[0m\u001b[37m\u001b[0m \u001b[1m60s\u001b[0m 12ms/step - accuracy: 0.7395 - loss: 0.8868 - val_accuracy: 0.7668 - val_loss: 0.7709\n",
      "Epoch 4/10\n",
      "\u001b[1m4908/4908\u001b[0m \u001b[32m━━━━━━━━━━━━━━━━━━━━\u001b[0m\u001b[37m\u001b[0m \u001b[1m61s\u001b[0m 12ms/step - accuracy: 0.7653 - loss: 0.7809 - val_accuracy: 0.7862 - val_loss: 0.6946\n",
      "Epoch 5/10\n",
      "\u001b[1m4908/4908\u001b[0m \u001b[32m━━━━━━━━━━━━━━━━━━━━\u001b[0m\u001b[37m\u001b[0m \u001b[1m81s\u001b[0m 12ms/step - accuracy: 0.7815 - loss: 0.7182 - val_accuracy: 0.7977 - val_loss: 0.6457\n",
      "Epoch 6/10\n",
      "\u001b[1m4908/4908\u001b[0m \u001b[32m━━━━━━━━━━━━━━━━━━━━\u001b[0m\u001b[37m\u001b[0m \u001b[1m59s\u001b[0m 12ms/step - accuracy: 0.7913 - loss: 0.6728 - val_accuracy: 0.8050 - val_loss: 0.6122\n",
      "Epoch 7/10\n",
      "\u001b[1m4908/4908\u001b[0m \u001b[32m━━━━━━━━━━━━━━━━━━━━\u001b[0m\u001b[37m\u001b[0m \u001b[1m82s\u001b[0m 12ms/step - accuracy: 0.7986 - loss: 0.6422 - val_accuracy: 0.8117 - val_loss: 0.5857\n",
      "Epoch 8/10\n",
      "\u001b[1m4908/4908\u001b[0m \u001b[32m━━━━━━━━━━━━━━━━━━━━\u001b[0m\u001b[37m\u001b[0m \u001b[1m82s\u001b[0m 12ms/step - accuracy: 0.8045 - loss: 0.6169 - val_accuracy: 0.8162 - val_loss: 0.5671\n",
      "Epoch 9/10\n",
      "\u001b[1m4908/4908\u001b[0m \u001b[32m━━━━━━━━━━━━━━━━━━━━\u001b[0m\u001b[37m\u001b[0m \u001b[1m62s\u001b[0m 13ms/step - accuracy: 0.8094 - loss: 0.5966 - val_accuracy: 0.8186 - val_loss: 0.5531\n",
      "Epoch 10/10\n",
      "\u001b[1m4908/4908\u001b[0m \u001b[32m━━━━━━━━━━━━━━━━━━━━\u001b[0m\u001b[37m\u001b[0m \u001b[1m80s\u001b[0m 12ms/step - accuracy: 0.8120 - loss: 0.5836 - val_accuracy: 0.8228 - val_loss: 0.5381\n",
      "\u001b[1m2182/2182\u001b[0m \u001b[32m━━━━━━━━━━━━━━━━━━━━\u001b[0m\u001b[37m\u001b[0m \u001b[1m5s\u001b[0m 2ms/step - accuracy: 0.8225 - loss: 0.5406\n",
      "Validation accuracy: 0.8228\n"
     ]
    }
   ],
   "source": [
    "import tensorflow as tf\n",
    "from tensorflow.keras.models import Sequential\n",
    "from tensorflow.keras.layers import Dense, Flatten, Dropout\n",
    "from tensorflow.keras.utils import to_categorical\n",
    "from sklearn.model_selection import train_test_split\n",
    "import numpy as np\n",
    "\n",
    "\n",
    "label_map = np.array([\n",
    "    '0', '1', '2', '3', '4', '5', '6', '7', '8', '9',\n",
    "    'A', 'B', 'C', 'D', 'E', 'F', 'G', 'H', 'I', 'J',\n",
    "    'K', 'L', 'M', 'N', 'O', 'P', 'Q', 'R', 'S', 'T',\n",
    "    'U', 'V', 'W', 'X', 'Y', 'Z',\n",
    "    'a', 'b', 'c', 'd', 'e', 'f', 'g', 'h', 'i', 'j',\n",
    "    'k', 'l', 'm', 'n', 'o', 'p', 'q', 'r', 's', 't',\n",
    "    'u', 'v', 'w', 'x', 'y', 'z'\n",
    "])\n",
    "\n",
    "\n",
    "X = images_fixed / 255.0\n",
    "\n",
    "\n",
    "label_to_index = {letter: idx for idx, letter in enumerate(label_map)}\n",
    "y_int = np.array([label_to_index[l] for l in labels])\n",
    "\n",
    "# One-hot encode\n",
    "y = to_categorical(y_int, num_classes=len(label_map))\n",
    "\n",
    "# Train-validation split\n",
    "X_train, X_val, y_train, y_val = train_test_split(X, y, test_size=0.1, random_state=100)\n",
    "\n",
    "# Build model\n",
    "model = Sequential([\n",
    "    Flatten(input_shape=(28, 28)),\n",
    "    Dense(512, activation='relu'),\n",
    "    Dropout(0.2),\n",
    "    Dense(len(label_map), activation='softmax')\n",
    "])\n",
    "\n",
    "# Compile\n",
    "model.compile(optimizer='adam', loss='categorical_crossentropy', metrics=['accuracy'])\n",
    "\n",
    "# Fit\n",
    "history = model.fit(\n",
    "    X_train, y_train,\n",
    "    epochs=10,\n",
    "    batch_size=128,\n",
    "    validation_data=(X_val, y_val)\n",
    ")\n",
    "\n",
    "# Evaluate\n",
    "val_loss, val_acc = model.evaluate(X_val, y_val)\n",
    "print(f\"Validation accuracy: {val_acc:.4f}\")\n"
   ]
  },
  {
   "cell_type": "code",
   "execution_count": null,
   "metadata": {
    "colab": {
     "base_uri": "https://localhost:8080/"
    },
    "executionInfo": {
     "elapsed": 143,
     "status": "ok",
     "timestamp": 1755188749651,
     "user": {
      "displayName": "Parth Nitin Kadam me22b081",
      "userId": "10550328344076653546"
     },
     "user_tz": -330
    },
    "id": "ZC0s8L2SZLFN",
    "outputId": "216c551a-a7eb-49af-fddd-17ed4aa435eb"
   },
   "outputs": [
    {
     "name": "stderr",
     "output_type": "stream",
     "text": [
      "WARNING:absl:You are saving your model as an HDF5 file via `model.save()` or `keras.saving.save_model(model)`. This file format is considered legacy. We recommend using instead the native Keras format, e.g. `model.save('my_model.keras')` or `keras.saving.save_model(model, 'my_model.keras')`. \n"
     ]
    }
   ],
   "source": [
    "# Save \n",
    "model.save(\"/content/drive/MyDrive/ML_OCR/emnist_model.h5\")\n",
    "\n"
   ]
  }
 ],
 "metadata": {
  "colab": {
   "authorship_tag": "ABX9TyOEh0UtMYA80e530aNd25qc",
   "provenance": []
  },
  "kernelspec": {
   "display_name": "Python 3 (ipykernel)",
   "language": "python",
   "name": "python3"
  },
  "language_info": {
   "codemirror_mode": {
    "name": "ipython",
    "version": 3
   },
   "file_extension": ".py",
   "mimetype": "text/x-python",
   "name": "python",
   "nbconvert_exporter": "python",
   "pygments_lexer": "ipython3",
   "version": "3.11.5"
  }
 },
 "nbformat": 4,
 "nbformat_minor": 1
}
